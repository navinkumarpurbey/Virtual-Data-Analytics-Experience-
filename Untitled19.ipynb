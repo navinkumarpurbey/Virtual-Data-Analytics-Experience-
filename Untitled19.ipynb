{
 "cells": [
  {
   "cell_type": "code",
   "execution_count": 1,
   "id": "81bed48e",
   "metadata": {},
   "outputs": [],
   "source": [
    "# Merging the data into one excel file using pandas\n",
    "import pandas as pd"
   ]
  },
  {
   "cell_type": "code",
   "execution_count": 2,
   "id": "aff6fb05",
   "metadata": {},
   "outputs": [],
   "source": [
    "reactions = pd.read_csv('Reactions.csv')\n",
    "content = pd.read_csv('Content.csv')\n",
    "reaction_types = pd.read_csv('ReactionTypes.csv')"
   ]
  },
  {
   "cell_type": "code",
   "execution_count": 3,
   "id": "de25938d",
   "metadata": {},
   "outputs": [],
   "source": [
    "# Display the first few rows of each dataframe to understand their structure\n",
    "reactions_head = reactions.head()\n",
    "content_head = content.head()\n",
    "reaction_types_head = reaction_types.head()"
   ]
  },
  {
   "cell_type": "code",
   "execution_count": 4,
   "id": "2942437c",
   "metadata": {},
   "outputs": [
    {
     "data": {
      "text/plain": [
       "(   Unnamed: 0                            Content ID Reactions Type  \\\n",
       " 0           1  97522e57-d9ab-4bd6-97bf-c24d952602d2        disgust   \n",
       " 1           2  97522e57-d9ab-4bd6-97bf-c24d952602d2        dislike   \n",
       " 2           3  97522e57-d9ab-4bd6-97bf-c24d952602d2         scared   \n",
       " 3           4  97522e57-d9ab-4bd6-97bf-c24d952602d2        disgust   \n",
       " 4           5  97522e57-d9ab-4bd6-97bf-c24d952602d2     interested   \n",
       " \n",
       "           Datetime  \n",
       " 0   11/7/2020 9:43  \n",
       " 1  6/17/2021 12:22  \n",
       " 2   4/18/2021 5:13  \n",
       " 3   1/6/2021 19:13  \n",
       " 4  8/23/2020 12:25  ,\n",
       "    Unnamed: 0                            Content ID Contents Type  \\\n",
       " 0           0  97522e57-d9ab-4bd6-97bf-c24d952602d2         photo   \n",
       " 1           1  9f737e0a-3cdd-4d29-9d24-753f4e3be810         photo   \n",
       " 2           2  230c4e4d-70c3-461d-b42c-ec09396efb3f         photo   \n",
       " 3           3  356fff80-da4d-4785-9f43-bc1261031dc6         photo   \n",
       " 4           4  01ab84dd-6364-4236-abbb-3f237db77180         video   \n",
       " \n",
       "          Category  \n",
       " 0        Studying  \n",
       " 1  healthy eating  \n",
       " 2  healthy eating  \n",
       " 3      technology  \n",
       " 4            food  ,\n",
       "    Unnamed: 0 ReactionType Sentiment  Score\n",
       " 0           0        heart  positive     60\n",
       " 1           1         want  positive     70\n",
       " 2           2      disgust  negative      0\n",
       " 3           3         hate  negative      5\n",
       " 4           4   interested  positive     30)"
      ]
     },
     "execution_count": 4,
     "metadata": {},
     "output_type": "execute_result"
    }
   ],
   "source": [
    "(reactions_head, content_head, reaction_types_head)"
   ]
  },
  {
   "cell_type": "code",
   "execution_count": 5,
   "id": "147d3ecf",
   "metadata": {},
   "outputs": [],
   "source": [
    "# Merge Reactions with Content on 'Content ID'\n",
    "merged_df = pd.merge(reactions, content, on='Content ID', how='left')"
   ]
  },
  {
   "cell_type": "code",
   "execution_count": 6,
   "id": "c13e8c7e",
   "metadata": {},
   "outputs": [],
   "source": [
    "# Merge the result with ReactionTypes on 'Reactions Type'\n",
    "final_df = pd.merge(merged_df, reaction_types, left_on='Reactions Type', right_on='ReactionType', how='left')"
   ]
  },
  {
   "cell_type": "code",
   "execution_count": 7,
   "id": "689615de",
   "metadata": {},
   "outputs": [
    {
     "data": {
      "text/html": [
       "<div>\n",
       "<style scoped>\n",
       "    .dataframe tbody tr th:only-of-type {\n",
       "        vertical-align: middle;\n",
       "    }\n",
       "\n",
       "    .dataframe tbody tr th {\n",
       "        vertical-align: top;\n",
       "    }\n",
       "\n",
       "    .dataframe thead th {\n",
       "        text-align: right;\n",
       "    }\n",
       "</style>\n",
       "<table border=\"1\" class=\"dataframe\">\n",
       "  <thead>\n",
       "    <tr style=\"text-align: right;\">\n",
       "      <th></th>\n",
       "      <th>Unnamed: 0_x</th>\n",
       "      <th>Content ID</th>\n",
       "      <th>Reactions Type</th>\n",
       "      <th>Datetime</th>\n",
       "      <th>Unnamed: 0_y</th>\n",
       "      <th>Contents Type</th>\n",
       "      <th>Category</th>\n",
       "      <th>Unnamed: 0</th>\n",
       "      <th>ReactionType</th>\n",
       "      <th>Sentiment</th>\n",
       "      <th>Score</th>\n",
       "    </tr>\n",
       "  </thead>\n",
       "  <tbody>\n",
       "    <tr>\n",
       "      <th>0</th>\n",
       "      <td>1</td>\n",
       "      <td>97522e57-d9ab-4bd6-97bf-c24d952602d2</td>\n",
       "      <td>disgust</td>\n",
       "      <td>11/7/2020 9:43</td>\n",
       "      <td>0</td>\n",
       "      <td>photo</td>\n",
       "      <td>Studying</td>\n",
       "      <td>2</td>\n",
       "      <td>disgust</td>\n",
       "      <td>negative</td>\n",
       "      <td>0</td>\n",
       "    </tr>\n",
       "    <tr>\n",
       "      <th>1</th>\n",
       "      <td>2</td>\n",
       "      <td>97522e57-d9ab-4bd6-97bf-c24d952602d2</td>\n",
       "      <td>dislike</td>\n",
       "      <td>6/17/2021 12:22</td>\n",
       "      <td>0</td>\n",
       "      <td>photo</td>\n",
       "      <td>Studying</td>\n",
       "      <td>11</td>\n",
       "      <td>dislike</td>\n",
       "      <td>negative</td>\n",
       "      <td>10</td>\n",
       "    </tr>\n",
       "    <tr>\n",
       "      <th>2</th>\n",
       "      <td>3</td>\n",
       "      <td>97522e57-d9ab-4bd6-97bf-c24d952602d2</td>\n",
       "      <td>scared</td>\n",
       "      <td>4/18/2021 5:13</td>\n",
       "      <td>0</td>\n",
       "      <td>photo</td>\n",
       "      <td>Studying</td>\n",
       "      <td>14</td>\n",
       "      <td>scared</td>\n",
       "      <td>negative</td>\n",
       "      <td>15</td>\n",
       "    </tr>\n",
       "    <tr>\n",
       "      <th>3</th>\n",
       "      <td>4</td>\n",
       "      <td>97522e57-d9ab-4bd6-97bf-c24d952602d2</td>\n",
       "      <td>disgust</td>\n",
       "      <td>1/6/2021 19:13</td>\n",
       "      <td>0</td>\n",
       "      <td>photo</td>\n",
       "      <td>Studying</td>\n",
       "      <td>2</td>\n",
       "      <td>disgust</td>\n",
       "      <td>negative</td>\n",
       "      <td>0</td>\n",
       "    </tr>\n",
       "    <tr>\n",
       "      <th>4</th>\n",
       "      <td>5</td>\n",
       "      <td>97522e57-d9ab-4bd6-97bf-c24d952602d2</td>\n",
       "      <td>interested</td>\n",
       "      <td>8/23/2020 12:25</td>\n",
       "      <td>0</td>\n",
       "      <td>photo</td>\n",
       "      <td>Studying</td>\n",
       "      <td>4</td>\n",
       "      <td>interested</td>\n",
       "      <td>positive</td>\n",
       "      <td>30</td>\n",
       "    </tr>\n",
       "  </tbody>\n",
       "</table>\n",
       "</div>"
      ],
      "text/plain": [
       "   Unnamed: 0_x                            Content ID Reactions Type  \\\n",
       "0             1  97522e57-d9ab-4bd6-97bf-c24d952602d2        disgust   \n",
       "1             2  97522e57-d9ab-4bd6-97bf-c24d952602d2        dislike   \n",
       "2             3  97522e57-d9ab-4bd6-97bf-c24d952602d2         scared   \n",
       "3             4  97522e57-d9ab-4bd6-97bf-c24d952602d2        disgust   \n",
       "4             5  97522e57-d9ab-4bd6-97bf-c24d952602d2     interested   \n",
       "\n",
       "          Datetime  Unnamed: 0_y Contents Type  Category  Unnamed: 0  \\\n",
       "0   11/7/2020 9:43             0         photo  Studying           2   \n",
       "1  6/17/2021 12:22             0         photo  Studying          11   \n",
       "2   4/18/2021 5:13             0         photo  Studying          14   \n",
       "3   1/6/2021 19:13             0         photo  Studying           2   \n",
       "4  8/23/2020 12:25             0         photo  Studying           4   \n",
       "\n",
       "  ReactionType Sentiment  Score  \n",
       "0      disgust  negative      0  \n",
       "1      dislike  negative     10  \n",
       "2       scared  negative     15  \n",
       "3      disgust  negative      0  \n",
       "4   interested  positive     30  "
      ]
     },
     "execution_count": 7,
     "metadata": {},
     "output_type": "execute_result"
    }
   ],
   "source": [
    "# Check the merged result\n",
    "final_df.head()"
   ]
  },
  {
   "cell_type": "code",
   "execution_count": 8,
   "id": "c5404576",
   "metadata": {},
   "outputs": [],
   "source": [
    "# Group by 'Category' and calculate the total scores\n",
    "category_scores = final_df.groupby('Category')['Score'].sum().reset_index()\n"
   ]
  },
  {
   "cell_type": "code",
   "execution_count": 9,
   "id": "1fc1638b",
   "metadata": {},
   "outputs": [],
   "source": [
    "# Sort the categories by total score in descending order and select the top 5\n",
    "top_5_categories = category_scores.sort_values(by='Score', ascending=False).head(5)"
   ]
  },
  {
   "cell_type": "code",
   "execution_count": 10,
   "id": "c5dca1cb",
   "metadata": {},
   "outputs": [
    {
     "data": {
      "text/html": [
       "<div>\n",
       "<style scoped>\n",
       "    .dataframe tbody tr th:only-of-type {\n",
       "        vertical-align: middle;\n",
       "    }\n",
       "\n",
       "    .dataframe tbody tr th {\n",
       "        vertical-align: top;\n",
       "    }\n",
       "\n",
       "    .dataframe thead th {\n",
       "        text-align: right;\n",
       "    }\n",
       "</style>\n",
       "<table border=\"1\" class=\"dataframe\">\n",
       "  <thead>\n",
       "    <tr style=\"text-align: right;\">\n",
       "      <th></th>\n",
       "      <th>Category</th>\n",
       "      <th>Score</th>\n",
       "    </tr>\n",
       "  </thead>\n",
       "  <tbody>\n",
       "    <tr>\n",
       "      <th>13</th>\n",
       "      <td>animals</td>\n",
       "      <td>71242</td>\n",
       "    </tr>\n",
       "    <tr>\n",
       "      <th>20</th>\n",
       "      <td>healthy eating</td>\n",
       "      <td>69067</td>\n",
       "    </tr>\n",
       "    <tr>\n",
       "      <th>25</th>\n",
       "      <td>technology</td>\n",
       "      <td>68521</td>\n",
       "    </tr>\n",
       "    <tr>\n",
       "      <th>22</th>\n",
       "      <td>science</td>\n",
       "      <td>66549</td>\n",
       "    </tr>\n",
       "    <tr>\n",
       "      <th>15</th>\n",
       "      <td>culture</td>\n",
       "      <td>64952</td>\n",
       "    </tr>\n",
       "  </tbody>\n",
       "</table>\n",
       "</div>"
      ],
      "text/plain": [
       "          Category  Score\n",
       "13         animals  71242\n",
       "20  healthy eating  69067\n",
       "25      technology  68521\n",
       "22         science  66549\n",
       "15         culture  64952"
      ]
     },
     "execution_count": 10,
     "metadata": {},
     "output_type": "execute_result"
    }
   ],
   "source": [
    "top_5_categories\n"
   ]
  },
  {
   "cell_type": "code",
   "execution_count": null,
   "id": "62653805",
   "metadata": {},
   "outputs": [],
   "source": []
  }
 ],
 "metadata": {
  "kernelspec": {
   "display_name": "Python 3 (ipykernel)",
   "language": "python",
   "name": "python3"
  },
  "language_info": {
   "codemirror_mode": {
    "name": "ipython",
    "version": 3
   },
   "file_extension": ".py",
   "mimetype": "text/x-python",
   "name": "python",
   "nbconvert_exporter": "python",
   "pygments_lexer": "ipython3",
   "version": "3.9.7"
  }
 },
 "nbformat": 4,
 "nbformat_minor": 5
}
